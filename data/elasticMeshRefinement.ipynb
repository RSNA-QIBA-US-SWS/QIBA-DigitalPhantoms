{
 "cells": [
  {
   "cell_type": "markdown",
   "metadata": {},
   "source": [
    "#QIBA Digital Phantoms: Elastic Mesh Refinement\n",
    "##Introduction\n",
    "Bo (Mayo) compared our elastic simulation results between LS-DYNA and ABAQUS using the uniform mesh with 0.25 mm node spacing.  Those simulations matched well, but we want to make sure that the spectral content of the elastic simulations is not influenced by the mesh element density.  I have run all 48 cases using a 0.1 mm node spacing to compare with the 0.25 mm node spacing results.\n",
    "##Methods\n",
    "All of the relevant parameters of the simulation are delineated in this GitHub repository's README.md file.  This specific comparison is just using LS-DYNA as the solver.\n",
    "##Results"
   ]
  },
  {
   "cell_type": "code",
   "execution_count": 16,
   "metadata": {
    "collapsed": false
   },
   "outputs": [
    {
     "data": {
      "image/png": "[encoded data removed]",
      "text/plain": [
       "<matplotlib.figure.Figure at 0x7fab2c8d3990>"
      ]
     },
     "metadata": {},
     "output_type": "display_data"
    }
   ],
   "source": [
    "%matplotlib inline\n",
    "import matplotlib\n",
    "import numpy as np\n",
    "import matplotlib.pyplot as plt\n",
    "from scipy.io import loadmat\n",
    "\n",
    "disp = {}\n",
    "disp['coarseFoc30mmF2p0_E30k_T334'] = loadmat('coarse/Foc30mmF2p0_E30k_T334.mat')\n",
    "disp['coarseFoc70mmF3p5_E3k_T167'] = loadmat('coarse/Foc70mmF3p5_E3k_T167.mat')\n",
    "disp['fineFoc30mmF2p0_E30k_T334'] = loadmat('fine/Foc30mmF2p0_E30k_T334.mat')\n",
    "disp['fineFoc70mmF3p5_E3k_T167'] = loadmat('fine/Foc70mmF3p5_E3k_T167.mat')\n",
    "\n",
    "fig, axes = plt.subplots(nrows=1, ncols=4)\n",
    "\n",
    "for ax in axes:\n",
    "    ax.set_xlabel('Lateral (cm)')\n",
    "    ax.set_ylabel('Depth (cm)')\n",
    "    ax.set_title('TITLE GOES HERE');  \n",
    "    \n",
    "fig.tight_layout()"
   ]
  }
 ],
 "metadata": {
  "kernelspec": {
   "display_name": "Python 2",
   "language": "python",
   "name": "python2"
  },
  "language_info": {
   "codemirror_mode": {
    "name": "ipython",
    "version": 2
   },
   "file_extension": ".py",
   "mimetype": "text/x-python",
   "name": "python",
   "nbconvert_exporter": "python",
   "pygments_lexer": "ipython2",
   "version": "2.7.8"
  }
 },
 "nbformat": 4,
 "nbformat_minor": 0
}
